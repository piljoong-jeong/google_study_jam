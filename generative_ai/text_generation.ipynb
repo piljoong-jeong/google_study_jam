{
 "cells": [
  {
   "cell_type": "markdown",
   "metadata": {},
   "source": [
    "### Setup"
   ]
  },
  {
   "cell_type": "code",
   "execution_count": null,
   "metadata": {},
   "outputs": [],
   "source": [
    "# NOTE: import TF and other libraries\n",
    "\n",
    "import os\n",
    "os.environ[\"TF_CPP_MIN_LOG_LEVEL\"] = \"2\"\n",
    "import time\n",
    "import warnings\n",
    "warnings.filterwarnings(\"ignore\")\n",
    "\n",
    "import numpy as np\n",
    "import tensorflow as tf\n"
   ]
  },
  {
   "cell_type": "code",
   "execution_count": null,
   "metadata": {},
   "outputs": [],
   "source": [
    "# NOTE: download Shakespeare dataset\n",
    "\n",
    "path_to_file = tf.keras.utils.get_file(\n",
    "    \"shakespeare.txt\",\n",
    "    \"https://storage.googleapis.com/download.tensorflow.org/data/shakespeare.txt\",\n",
    ")"
   ]
  },
  {
   "cell_type": "code",
   "execution_count": null,
   "metadata": {},
   "outputs": [],
   "source": [
    "# NOTE: read the data\n",
    "\n",
    "text = open(path_to_file, \"rb\").read().decode(encoding=\"utf-8\")\n",
    "print(f\"[DEBUG] length of text: {len(text)} characters\")\n",
    "print(f\"{text[:250]=}\")\n",
    "\n",
    "vocab = sorted(set(text))\n",
    "print(f\"{len(vocab)} unique characters\")"
   ]
  },
  {
   "cell_type": "markdown",
   "metadata": {},
   "source": [
    "### Process the text"
   ]
  },
  {
   "cell_type": "code",
   "execution_count": null,
   "metadata": {},
   "outputs": [],
   "source": [
    "# NOTE: vectorize the text\n",
    "\n",
    "example_texts = [\"abcdefg\", \"xyz\"]\n",
    "\n",
    "# string to set of chars\n",
    "chars = tf.strings.unicode_split(example_texts, input_encoding=\"UTF-8\")\n",
    "print(chars)\n",
    "\n",
    "# set of chars to numerical representation\n",
    "ids_from_chars = tf.keras.layers.StringLookup(\n",
    "    vocabulary=list(vocab), mask_token=None\n",
    ")\n",
    "ids = ids_from_chars(chars)\n",
    "print(ids)\n",
    "\n",
    "# numerical representation to set of chars\n",
    "chars_from_ids = tf.keras.layers.StringLookup(\n",
    "    vocabulary=ids_from_chars.get_vocabulary(), \n",
    "    invert=True, \n",
    "    mask_token=None\n",
    ")\n",
    "chars = chars_from_ids(ids)\n",
    "print(chars)\n",
    "\n",
    "# set of chars to string\n",
    "def text_from_ids(ids):\n",
    "    return tf.strings.reduce_join(chars_from_ids(ids), axis=-1)"
   ]
  },
  {
   "cell_type": "code",
   "execution_count": null,
   "metadata": {},
   "outputs": [],
   "source": [
    "# NOTE: the prediction task: \n",
    "# given sequence of character, \n",
    "# what is the most probable next character?\n",
    "\n",
    "# NOTE: create training examples and targets\n",
    "all_ids = ids_from_chars(tf.strings.unicode_split(text, \"UTF-8\"))\n",
    "print(f\"{all_ids=}\")\n",
    "\n",
    "ids_dataset = tf.data.Dataset.from_tensor_slices(all_ids)\n",
    "for ids in ids_dataset.take(10):\n",
    "    print(chars_from_ids(ids).numpy().decode(\"utf-8\"))\n",
    "\n",
    "# batching\n",
    "seq_length = 100\n",
    "examples_per_epoch = len(text) // (seq_length+1) # NOTE: training set; given sequence(seq_length), predict next character(+1)\n",
    "sequences = ids_dataset.batch(seq_length+1, drop_remainder=True)\n",
    "for seq in sequences.take(5):\n",
    "    print(text_from_ids(seq).numpy())"
   ]
  },
  {
   "cell_type": "code",
   "execution_count": null,
   "metadata": {},
   "outputs": [],
   "source": [
    "# NOTE: preparing dataset: (input, label)\n",
    "# `input`: current character\n",
    "# `label`: next character\n",
    "\n",
    "def split_input_target(sequence):\n",
    "    input_text = sequence[:-1]\n",
    "    target_text = sequence[1:]\n",
    "\n",
    "    return input_text, target_text\n",
    "split_input_target(list(\"Tensorflow\"))\n",
    "\n",
    "dataset = sequences.map(split_input_target) # NOTE: transformation using input function\n",
    "for input_example, target_example in dataset.take(1):\n",
    "    print(f\"[DEBUG] Input:\\t {text_from_ids(input_example).numpy()}\")\n",
    "    print(f\"[DEBUG] Target:\\t {text_from_ids(target_example).numpy()}\")"
   ]
  },
  {
   "cell_type": "code",
   "execution_count": null,
   "metadata": {},
   "outputs": [],
   "source": [
    "# NOTE: create training batches\n",
    "\n",
    "BATCH_SIZE = 64\n",
    "BUFFER_SIZE = 10000 # NOTE: size of container which will store already shuffled dataset\n",
    "\n",
    "dataset = (\n",
    "    dataset.shuffle(BUFFER_SIZE)\n",
    "    .batch(BATCH_SIZE, drop_remainder=True)\n",
    "    .prefetch(tf.data.experimental.AUTOTUNE)\n",
    ") # NOTE: pack shuffled data into batches\n",
    "\n",
    "print(dataset)"
   ]
  },
  {
   "cell_type": "code",
   "execution_count": null,
   "metadata": {},
   "outputs": [],
   "source": [
    "# NOTE: build the model\n",
    "\n",
    "vocab_size = len(vocab)\n",
    "embedding_dim = 256\n",
    "rnn_units = 1024\n",
    "\n",
    "class MyModel(tf.keras.Model):\n",
    "    def __init__(self, vocab_size, embedding_dim, rnn_units):\n",
    "        super().__init__(self)\n",
    "\n",
    "        # NOTE: layers\n",
    "        self.embedding = tf.keras.layers.Embedding(vocab_size, embedding_dim)\n",
    "        self.gru = tf.keras.layers.GRU(\n",
    "            rnn_units, \n",
    "            return_sequences=True, \n",
    "            return_state=True\n",
    "        )\n",
    "        self.dense = tf.keras.layers.Dense(vocab_size)\n",
    "\n",
    "    def call(self, \n",
    "             inputs, \n",
    "             states=None, \n",
    "             return_state=False, \n",
    "             training=False):\n",
    "        \n",
    "        x = self.embedding(inputs, training=training)\n",
    "\n",
    "        # NOTE: if training, load & use previous state\n",
    "        if None is states:\n",
    "            states = self.gru.get_initial_state(x)\n",
    "        x, states = self.gru(x, initial_state=states, training=training)\n",
    "        x = self.dense(x, training=training)\n",
    "\n",
    "        return (x, states) if return_state else x\n",
    "    \n",
    "model = MyModel(\n",
    "    # NOTE: be sure the vocabulary size matches the `StringLookup` layers\n",
    "    vocab_size=len(ids_from_chars.get_vocabulary()), \n",
    "    embedding_dim=embedding_dim, \n",
    "    rnn_units=rnn_units\n",
    ")"
   ]
  },
  {
   "cell_type": "markdown",
   "metadata": {},
   "source": [
    "### Try the model"
   ]
  },
  {
   "cell_type": "code",
   "execution_count": null,
   "metadata": {},
   "outputs": [],
   "source": [
    "# NOTE: validate the model\n",
    "\n",
    "# NOTE: 1. check the shape of the output:\n",
    "for input_example_batch, target_example_batch in dataset.take(1):\n",
    "    example_batch_predictions = model(input_example_batch)\n",
    "    print(f\"{example_batch_predictions.shape} # (batch_size, sequence_length, vocab_size)\")\n",
    "print()\n",
    "\n",
    "# NOTE: 2. layer architecture\n",
    "print(f\"{model.summary()}\")\n",
    "print()\n",
    "\n",
    "# NOTE: 3. get predictions using random\n",
    "# NOTE: using softmax for choosing next best prediction will result stuck in a loop!\n",
    "sampled_indices = tf.random.categorical(example_batch_predictions[0], num_samples=1)\n",
    "sampled_indices = tf.squeeze(sampled_indices, axis=-1).numpy()\n",
    "print(f\"[DEBUG] {sampled_indices=}\")\n",
    "print()\n",
    "print(f\"[DEBUG] input: \\n{text_from_ids(input_example_batch[0]).numpy()}\")\n",
    "print(f\"[DEBUG] next char predictions: \\n{text_from_ids(sampled_indices).numpy()}\")"
   ]
  },
  {
   "cell_type": "markdown",
   "metadata": {},
   "source": [
    "### Train the model"
   ]
  },
  {
   "cell_type": "code",
   "execution_count": null,
   "metadata": {},
   "outputs": [],
   "source": [
    "# NOTE: attach an optimizer & loss function\n",
    "\n",
    "loss = tf.losses.SparseCategoricalCrossentropy(from_logits=True)\n",
    "example_batch_mean_loss = loss(target_example_batch, example_batch_predictions)\n",
    "print(f\"[DEBUG] prediction shape: {example_batch_predictions.shape} # (batch_size, sequence_length, vocab_size)\")\n",
    "print(f\"[DEBUG] mean loss: {example_batch_mean_loss}\")\n",
    "\n",
    "\"\"\"\n",
    "    A newly initialized model shouldn't be too sure of itself, the output logits should all have similar magnitudes. \n",
    "    To confirm this you can check that the exponential of the mean loss is approximately equal to the vocabulary size. \n",
    "    A much higher loss means the model is sure of its wrong answers, and is badly initialized:\n",
    "\"\"\"\n",
    "print(f\"{tf.exp(example_batch_mean_loss).numpy()}\")\n",
    "\n",
    "# NOTE: configure the training procedure\n",
    "model.compile(optimizer=\"adam\", loss=loss)"
   ]
  },
  {
   "cell_type": "code",
   "execution_count": null,
   "metadata": {},
   "outputs": [],
   "source": [
    "# NOTE: configure checkpoints\n",
    "\n",
    "checkpoint_dir = \"./training_checkpoints\"\n",
    "checkpoint_prefix = os.path.join(checkpoint_dir, \"ckpt_{epoch}\")\n",
    "checkpoint_callback = tf.keras.callbacks.ModelCheckpoint(\n",
    "    filepath=checkpoint_prefix, \n",
    "    save_weights_only=True\n",
    ")"
   ]
  },
  {
   "cell_type": "code",
   "execution_count": null,
   "metadata": {},
   "outputs": [],
   "source": [
    "# NOTE: execute the training\n",
    "\n",
    "EPOCHS = 10\n",
    "history = model.fit(\n",
    "    dataset, \n",
    "    epochs=EPOCHS, \n",
    "    callbacks=[checkpoint_callback]\n",
    ")"
   ]
  },
  {
   "cell_type": "code",
   "execution_count": null,
   "metadata": {},
   "outputs": [],
   "source": []
  }
 ],
 "metadata": {
  "kernelspec": {
   "display_name": "google_study_jam",
   "language": "python",
   "name": "python3"
  },
  "language_info": {
   "codemirror_mode": {
    "name": "ipython",
    "version": 3
   },
   "file_extension": ".py",
   "mimetype": "text/x-python",
   "name": "python",
   "nbconvert_exporter": "python",
   "pygments_lexer": "ipython3",
   "version": "3.11.4"
  },
  "orig_nbformat": 4
 },
 "nbformat": 4,
 "nbformat_minor": 2
}
